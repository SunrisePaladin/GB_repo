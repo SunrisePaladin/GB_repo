{
  "cells": [
    {
      "cell_type": "markdown",
      "metadata": {
        "id": "HZvz0gdW76W5"
      },
      "source": [
        "# Многослойный перцептрон\n",
        "\n",
        "## Лабораторная работа №4"
      ]
    },
    {
      "cell_type": "markdown",
      "metadata": {
        "id": "T2Pz-P4zD5sC"
      },
      "source": [
        "Присвойте строку с вашим ФИО переменной `name` и выполните ячейку. В ее выводе будет указан номер вашего варианта."
      ]
    },
    {
      "cell_type": "code",
      "execution_count": 13,
      "metadata": {
        "id": "dhoU_CP8DZvg"
      },
      "outputs": [
        {
          "name": "stdout",
          "output_type": "stream",
          "text": [
            "Ваш вариант - №2\n"
          ]
        }
      ],
      "source": [
        "name = \"Соловьев Артём Александрович\" # Впишите ваше ФИО\n",
        "\n",
        "def calculate_variant(name):\n",
        "    return sum(ord(char) for char in name) % 2 + 1\n",
        "\n",
        "print(f\"Ваш вариант - №{calculate_variant(name)}\")"
      ]
    },
    {
      "cell_type": "markdown",
      "metadata": {
        "id": "gAFVgWfvA9cu"
      },
      "source": [
        "\n",
        "---\n",
        "\n",
        "**Впишите в эту ячейку ваши ФИО, группу и вариант**.\n",
        "\n",
        "ФИО: Соловьев Артём Александрович\n",
        "\n",
        "Группа:211-324\n",
        "\n",
        "Вариант:2\n",
        "\n",
        "---\n",
        "\n",
        "Далее по ходу ноутбука вам встрется ячейки с кодом, в которых будут комментарии с заданиями, и текстовые ячейки как эта с вопросами, на которые вам необходимо письменно в ноутбуке ответить.\n",
        "\n",
        "Все ячейки необходимо запускать.\n",
        "\n",
        "Данные для вариантов лежат по ссылкам:\n",
        "\n",
        "1. http://labcolor.space/mlp-1.csv\n",
        "1. http://labcolor.space/mlp-2.csv\n",
        "\n",
        "Скопируйте ссылку для своего варианта."
      ]
    },
    {
      "cell_type": "markdown",
      "metadata": {
        "id": "hb7oukvg176R"
      },
      "source": [
        "## Импорт модулей"
      ]
    },
    {
      "cell_type": "code",
      "execution_count": 14,
      "metadata": {
        "id": "HLUv2a5i1_Qv"
      },
      "outputs": [],
      "source": [
        "import numpy as np\n",
        "import matplotlib.pyplot as plt\n",
        "import pandas as pd"
      ]
    },
    {
      "cell_type": "markdown",
      "metadata": {
        "id": "_PqyV8DO08ZR"
      },
      "source": [
        "## Загрузка данных\n",
        "\n",
        "Используя уже знакомые вам функции, загрузите данные и проведите их анализ на предмет количества признаков, объектов и классов. В данных последний столбец это целевой признак, а первая строка — это порядковый номер признака начиная с 0."
      ]
    },
    {
      "cell_type": "code",
      "execution_count": 15,
      "metadata": {
        "id": "OXvZhd9U1S8y"
      },
      "outputs": [
        {
          "data": {
            "text/html": [
              "<div>\n",
              "<style scoped>\n",
              "    .dataframe tbody tr th:only-of-type {\n",
              "        vertical-align: middle;\n",
              "    }\n",
              "\n",
              "    .dataframe tbody tr th {\n",
              "        vertical-align: top;\n",
              "    }\n",
              "\n",
              "    .dataframe thead th {\n",
              "        text-align: right;\n",
              "    }\n",
              "</style>\n",
              "<table border=\"1\" class=\"dataframe\">\n",
              "  <thead>\n",
              "    <tr style=\"text-align: right;\">\n",
              "      <th></th>\n",
              "      <th>0</th>\n",
              "      <th>1</th>\n",
              "      <th>2</th>\n",
              "      <th>3</th>\n",
              "      <th>4</th>\n",
              "      <th>5</th>\n",
              "      <th>6</th>\n",
              "      <th>7</th>\n",
              "      <th>8</th>\n",
              "      <th>9</th>\n",
              "      <th>...</th>\n",
              "      <th>91</th>\n",
              "      <th>92</th>\n",
              "      <th>93</th>\n",
              "      <th>94</th>\n",
              "      <th>95</th>\n",
              "      <th>96</th>\n",
              "      <th>97</th>\n",
              "      <th>98</th>\n",
              "      <th>99</th>\n",
              "      <th>100</th>\n",
              "    </tr>\n",
              "  </thead>\n",
              "  <tbody>\n",
              "    <tr>\n",
              "      <th>count</th>\n",
              "      <td>3999.000000</td>\n",
              "      <td>3999.000000</td>\n",
              "      <td>4000.000000</td>\n",
              "      <td>4000.000000</td>\n",
              "      <td>4000.000000</td>\n",
              "      <td>3999.000000</td>\n",
              "      <td>3999.000000</td>\n",
              "      <td>4000.000000</td>\n",
              "      <td>3999.000000</td>\n",
              "      <td>4000.000000</td>\n",
              "      <td>...</td>\n",
              "      <td>3999.000000</td>\n",
              "      <td>4000.000000</td>\n",
              "      <td>4000.000000</td>\n",
              "      <td>4000.000000</td>\n",
              "      <td>4000.000000</td>\n",
              "      <td>4000.000000</td>\n",
              "      <td>4000.000000</td>\n",
              "      <td>3999.000000</td>\n",
              "      <td>4000.000000</td>\n",
              "      <td>4000.000000</td>\n",
              "    </tr>\n",
              "    <tr>\n",
              "      <th>mean</th>\n",
              "      <td>0.024746</td>\n",
              "      <td>0.500394</td>\n",
              "      <td>-0.051431</td>\n",
              "      <td>0.195077</td>\n",
              "      <td>-0.173320</td>\n",
              "      <td>-0.008179</td>\n",
              "      <td>0.266138</td>\n",
              "      <td>-0.376966</td>\n",
              "      <td>0.026357</td>\n",
              "      <td>-0.101055</td>\n",
              "      <td>...</td>\n",
              "      <td>-0.404663</td>\n",
              "      <td>0.158582</td>\n",
              "      <td>0.383045</td>\n",
              "      <td>0.165495</td>\n",
              "      <td>-0.503738</td>\n",
              "      <td>-0.323991</td>\n",
              "      <td>0.105799</td>\n",
              "      <td>0.518621</td>\n",
              "      <td>0.257474</td>\n",
              "      <td>3.501000</td>\n",
              "    </tr>\n",
              "    <tr>\n",
              "      <th>std</th>\n",
              "      <td>5.676004</td>\n",
              "      <td>5.550694</td>\n",
              "      <td>5.662355</td>\n",
              "      <td>5.450803</td>\n",
              "      <td>5.517875</td>\n",
              "      <td>5.566616</td>\n",
              "      <td>5.654875</td>\n",
              "      <td>5.511465</td>\n",
              "      <td>5.535498</td>\n",
              "      <td>5.348943</td>\n",
              "      <td>...</td>\n",
              "      <td>5.582902</td>\n",
              "      <td>5.519649</td>\n",
              "      <td>5.603523</td>\n",
              "      <td>5.685317</td>\n",
              "      <td>5.525141</td>\n",
              "      <td>5.618171</td>\n",
              "      <td>5.701498</td>\n",
              "      <td>5.622377</td>\n",
              "      <td>5.592407</td>\n",
              "      <td>2.291356</td>\n",
              "    </tr>\n",
              "    <tr>\n",
              "      <th>min</th>\n",
              "      <td>-19.405287</td>\n",
              "      <td>-22.652231</td>\n",
              "      <td>-19.667265</td>\n",
              "      <td>-21.881980</td>\n",
              "      <td>-19.741271</td>\n",
              "      <td>-19.654484</td>\n",
              "      <td>-18.533880</td>\n",
              "      <td>-19.623795</td>\n",
              "      <td>-20.089030</td>\n",
              "      <td>-18.279167</td>\n",
              "      <td>...</td>\n",
              "      <td>-21.406687</td>\n",
              "      <td>-19.159398</td>\n",
              "      <td>-22.002759</td>\n",
              "      <td>-22.618761</td>\n",
              "      <td>-21.258031</td>\n",
              "      <td>-21.695871</td>\n",
              "      <td>-24.238754</td>\n",
              "      <td>-19.956897</td>\n",
              "      <td>-18.751769</td>\n",
              "      <td>0.000000</td>\n",
              "    </tr>\n",
              "    <tr>\n",
              "      <th>25%</th>\n",
              "      <td>-3.728930</td>\n",
              "      <td>-3.353507</td>\n",
              "      <td>-3.786081</td>\n",
              "      <td>-3.441829</td>\n",
              "      <td>-3.843433</td>\n",
              "      <td>-3.745855</td>\n",
              "      <td>-3.529528</td>\n",
              "      <td>-4.005876</td>\n",
              "      <td>-3.610773</td>\n",
              "      <td>-3.823280</td>\n",
              "      <td>...</td>\n",
              "      <td>-4.030346</td>\n",
              "      <td>-3.620666</td>\n",
              "      <td>-3.403997</td>\n",
              "      <td>-3.574715</td>\n",
              "      <td>-4.216778</td>\n",
              "      <td>-4.049489</td>\n",
              "      <td>-3.773541</td>\n",
              "      <td>-3.259576</td>\n",
              "      <td>-3.543963</td>\n",
              "      <td>1.000000</td>\n",
              "    </tr>\n",
              "    <tr>\n",
              "      <th>50%</th>\n",
              "      <td>0.006111</td>\n",
              "      <td>0.509518</td>\n",
              "      <td>-0.077131</td>\n",
              "      <td>0.240650</td>\n",
              "      <td>-0.101706</td>\n",
              "      <td>0.058320</td>\n",
              "      <td>0.323044</td>\n",
              "      <td>-0.339816</td>\n",
              "      <td>-0.033490</td>\n",
              "      <td>-0.101047</td>\n",
              "      <td>...</td>\n",
              "      <td>-0.335830</td>\n",
              "      <td>0.060452</td>\n",
              "      <td>0.346543</td>\n",
              "      <td>0.028579</td>\n",
              "      <td>-0.517919</td>\n",
              "      <td>-0.367989</td>\n",
              "      <td>0.157999</td>\n",
              "      <td>0.578396</td>\n",
              "      <td>0.212288</td>\n",
              "      <td>3.000000</td>\n",
              "    </tr>\n",
              "    <tr>\n",
              "      <th>75%</th>\n",
              "      <td>3.865709</td>\n",
              "      <td>4.257142</td>\n",
              "      <td>3.685468</td>\n",
              "      <td>3.886383</td>\n",
              "      <td>3.578177</td>\n",
              "      <td>3.787004</td>\n",
              "      <td>4.056428</td>\n",
              "      <td>3.318970</td>\n",
              "      <td>3.743444</td>\n",
              "      <td>3.433963</td>\n",
              "      <td>...</td>\n",
              "      <td>3.354380</td>\n",
              "      <td>3.801935</td>\n",
              "      <td>4.256211</td>\n",
              "      <td>3.839960</td>\n",
              "      <td>3.210718</td>\n",
              "      <td>3.448604</td>\n",
              "      <td>4.017386</td>\n",
              "      <td>4.315890</td>\n",
              "      <td>4.029235</td>\n",
              "      <td>5.000000</td>\n",
              "    </tr>\n",
              "    <tr>\n",
              "      <th>max</th>\n",
              "      <td>21.501254</td>\n",
              "      <td>20.473739</td>\n",
              "      <td>21.172589</td>\n",
              "      <td>22.534479</td>\n",
              "      <td>18.682272</td>\n",
              "      <td>19.899053</td>\n",
              "      <td>21.004332</td>\n",
              "      <td>18.777280</td>\n",
              "      <td>20.167018</td>\n",
              "      <td>18.108598</td>\n",
              "      <td>...</td>\n",
              "      <td>23.011847</td>\n",
              "      <td>21.531888</td>\n",
              "      <td>24.865558</td>\n",
              "      <td>19.736466</td>\n",
              "      <td>21.330885</td>\n",
              "      <td>19.314840</td>\n",
              "      <td>17.588632</td>\n",
              "      <td>18.988684</td>\n",
              "      <td>21.919094</td>\n",
              "      <td>7.000000</td>\n",
              "    </tr>\n",
              "  </tbody>\n",
              "</table>\n",
              "<p>8 rows × 101 columns</p>\n",
              "</div>"
            ],
            "text/plain": [
              "                 0            1            2            3            4  \\\n",
              "count  3999.000000  3999.000000  4000.000000  4000.000000  4000.000000   \n",
              "mean      0.024746     0.500394    -0.051431     0.195077    -0.173320   \n",
              "std       5.676004     5.550694     5.662355     5.450803     5.517875   \n",
              "min     -19.405287   -22.652231   -19.667265   -21.881980   -19.741271   \n",
              "25%      -3.728930    -3.353507    -3.786081    -3.441829    -3.843433   \n",
              "50%       0.006111     0.509518    -0.077131     0.240650    -0.101706   \n",
              "75%       3.865709     4.257142     3.685468     3.886383     3.578177   \n",
              "max      21.501254    20.473739    21.172589    22.534479    18.682272   \n",
              "\n",
              "                 5            6            7            8            9  ...  \\\n",
              "count  3999.000000  3999.000000  4000.000000  3999.000000  4000.000000  ...   \n",
              "mean     -0.008179     0.266138    -0.376966     0.026357    -0.101055  ...   \n",
              "std       5.566616     5.654875     5.511465     5.535498     5.348943  ...   \n",
              "min     -19.654484   -18.533880   -19.623795   -20.089030   -18.279167  ...   \n",
              "25%      -3.745855    -3.529528    -4.005876    -3.610773    -3.823280  ...   \n",
              "50%       0.058320     0.323044    -0.339816    -0.033490    -0.101047  ...   \n",
              "75%       3.787004     4.056428     3.318970     3.743444     3.433963  ...   \n",
              "max      19.899053    21.004332    18.777280    20.167018    18.108598  ...   \n",
              "\n",
              "                91           92           93           94           95  \\\n",
              "count  3999.000000  4000.000000  4000.000000  4000.000000  4000.000000   \n",
              "mean     -0.404663     0.158582     0.383045     0.165495    -0.503738   \n",
              "std       5.582902     5.519649     5.603523     5.685317     5.525141   \n",
              "min     -21.406687   -19.159398   -22.002759   -22.618761   -21.258031   \n",
              "25%      -4.030346    -3.620666    -3.403997    -3.574715    -4.216778   \n",
              "50%      -0.335830     0.060452     0.346543     0.028579    -0.517919   \n",
              "75%       3.354380     3.801935     4.256211     3.839960     3.210718   \n",
              "max      23.011847    21.531888    24.865558    19.736466    21.330885   \n",
              "\n",
              "                96           97           98           99          100  \n",
              "count  4000.000000  4000.000000  3999.000000  4000.000000  4000.000000  \n",
              "mean     -0.323991     0.105799     0.518621     0.257474     3.501000  \n",
              "std       5.618171     5.701498     5.622377     5.592407     2.291356  \n",
              "min     -21.695871   -24.238754   -19.956897   -18.751769     0.000000  \n",
              "25%      -4.049489    -3.773541    -3.259576    -3.543963     1.000000  \n",
              "50%      -0.367989     0.157999     0.578396     0.212288     3.000000  \n",
              "75%       3.448604     4.017386     4.315890     4.029235     5.000000  \n",
              "max      19.314840    17.588632    18.988684    21.919094     7.000000  \n",
              "\n",
              "[8 rows x 101 columns]"
            ]
          },
          "execution_count": 15,
          "metadata": {},
          "output_type": "execute_result"
        }
      ],
      "source": [
        "df = pd.read_csv(\"http://labcolor.space/mlp-2.csv\", dtype={\"target\":\"category\"})\n",
        "df.head()\n",
        "df.describe()"
      ]
    },
    {
      "cell_type": "markdown",
      "metadata": {
        "id": "m9m0a_sb1UvO"
      },
      "source": [
        "**Описание данных**\n",
        "\n",
        "Ваш ответ: 3999-4000 объектов с 101 признаком"
      ]
    },
    {
      "cell_type": "markdown",
      "metadata": {
        "id": "1m7Zs2RS1krd"
      },
      "source": [
        "## Подготовка данных\n",
        "\n",
        "Убедитесь что в данных нет отсутствующих значений, если они есть, удалите их или заполните средними значениями - `df.isnull()`."
      ]
    },
    {
      "cell_type": "code",
      "execution_count": 16,
      "metadata": {
        "id": "njpVm4861w4p"
      },
      "outputs": [
        {
          "name": "stdout",
          "output_type": "stream",
          "text": [
            "3980\n"
          ]
        }
      ],
      "source": [
        "df.isnull()\n",
        "df = df.dropna()\n",
        "print(len(df))"
      ]
    },
    {
      "cell_type": "markdown",
      "metadata": {
        "id": "ReT7oB2f1xOL"
      },
      "source": [
        "**Были ли отсутствующие значения и что вы с ними сделали?**\n",
        "\n",
        "Ваш ответ: Было 20 отсутствующих значений, они были удалены"
      ]
    },
    {
      "cell_type": "markdown",
      "metadata": {
        "id": "3wIj3aO58Mpx"
      },
      "source": [
        "С помощью `train_test_split` разделите данные на обучающие и тестовые (15-20%). Не забудьте про `random_state`."
      ]
    },
    {
      "cell_type": "code",
      "execution_count": 17,
      "metadata": {
        "id": "OnVBVqiQ8bCl"
      },
      "outputs": [],
      "source": [
        "from sklearn.model_selection import train_test_split\n",
        "y = df.pop('100')\n",
        "X = df\n",
        "X_train, X_test, y_train, y_test = train_test_split(X, y, test_size = 0.2, train_size = 0.8, random_state = 40)"
      ]
    },
    {
      "cell_type": "markdown",
      "metadata": {
        "id": "0A50H4999EEf"
      },
      "source": [
        "Масштабируйте признаки. Для этого импортируйте соответствующий класс, создайте его экземпляр, выполните его \"подгонку\" и примените его к признакам."
      ]
    },
    {
      "cell_type": "code",
      "execution_count": 18,
      "metadata": {
        "id": "viG4aI_I9EWo"
      },
      "outputs": [],
      "source": [
        "from sklearn.preprocessing import StandardScaler# Ваш код\n",
        "sc = StandardScaler()\n",
        "\n",
        "sc.fit(X_train)\n",
        "X_train_scaled = sc.transform(X_train)\n",
        "\n",
        "sc.fit(X_test)\n",
        "X_test_scaled = sc.transform(X_test)"
      ]
    },
    {
      "cell_type": "markdown",
      "metadata": {
        "id": "p0LFn0mC9_RX"
      },
      "source": [
        "## Обучение модели и подборка гиперпараметров\n",
        "\n",
        "Гиперпараметры и их значения задаются в виде словаря и затем вместе с экземпляром модели в качестве аргументов передаются в конструктор класса `GridSearchCV`, который будет создавать разные варианты модели и обучать их, используя кросс валидацию, сохраняя промежуточные результаты.\n",
        "\n",
        "Попробуйте разные варианты:\n",
        "* количества нейронов в скрытых слоях (hidden_layer_sizes),\n",
        "* функций активации (activation),\n",
        "* скорости обучения (learning_rate_init)."
      ]
    },
    {
      "cell_type": "markdown",
      "metadata": {
        "id": "Bqa2xa6U_H-m"
      },
      "source": [
        "**Что такое гиперпараметры для модели?**\n",
        "\n",
        "Ваш ответ: параметры модели, используемые для кросс-валидации\n",
        "\n",
        "**Опишите суть кросс валидации.**\n",
        "\n",
        "Ваш ответ: создание дополнительных моделей для проверки основной\n",
        "\n",
        "**В чем заключается идея поиска по сетке (grid search)?**\n",
        "\n",
        "Ваш ответ: перебор значений из диапазона"
      ]
    },
    {
      "cell_type": "code",
      "execution_count": 19,
      "metadata": {
        "id": "utuYQLEr-IRy"
      },
      "outputs": [],
      "source": [
        "param_grid = {\n",
        "    # в качестве ключей указываются параметры модели\n",
        "    \"hidden_layer_sizes\": [101, 50, 25],\n",
        "\n",
        "    # в качестве значений списки из значений, которые будут перебираться\n",
        "    \"activation\": [\"identity\", \"logistic\", \"tanh\", \"relu\"],\n",
        "\n",
        "    # например 'alpha': [0.0001, 0.001]\n",
        "    \"learning_rate_init\": [0.001, 0.01, 0.1],\n",
        "}"
      ]
    },
    {
      "cell_type": "markdown",
      "metadata": {
        "id": "cxLLtdP6CIv-"
      },
      "source": [
        "**Сколько вариантов модели будет в итоге обучено?**\n",
        "\n",
        "Ваш ответ: 3*4*3 = 36"
      ]
    },
    {
      "cell_type": "code",
      "execution_count": 20,
      "metadata": {
        "id": "sQNECXh_AS0N"
      },
      "outputs": [],
      "source": [
        "from sklearn.model_selection import GridSearchCV\n",
        "from sklearn.neural_network import MLPClassifier"
      ]
    },
    {
      "cell_type": "code",
      "execution_count": 21,
      "metadata": {
        "id": "o0Gpl5_9APoB"
      },
      "outputs": [
        {
          "name": "stderr",
          "output_type": "stream",
          "text": [
            "c:\\Program Files\\Python311\\Lib\\site-packages\\sklearn\\neural_network\\_multilayer_perceptron.py:691: ConvergenceWarning: Stochastic Optimizer: Maximum iterations (200) reached and the optimization hasn't converged yet.\n",
            "  warnings.warn(\n",
            "c:\\Program Files\\Python311\\Lib\\site-packages\\sklearn\\neural_network\\_multilayer_perceptron.py:691: ConvergenceWarning: Stochastic Optimizer: Maximum iterations (200) reached and the optimization hasn't converged yet.\n",
            "  warnings.warn(\n",
            "c:\\Program Files\\Python311\\Lib\\site-packages\\sklearn\\neural_network\\_multilayer_perceptron.py:691: ConvergenceWarning: Stochastic Optimizer: Maximum iterations (200) reached and the optimization hasn't converged yet.\n",
            "  warnings.warn(\n",
            "c:\\Program Files\\Python311\\Lib\\site-packages\\sklearn\\neural_network\\_multilayer_perceptron.py:691: ConvergenceWarning: Stochastic Optimizer: Maximum iterations (200) reached and the optimization hasn't converged yet.\n",
            "  warnings.warn(\n",
            "c:\\Program Files\\Python311\\Lib\\site-packages\\sklearn\\neural_network\\_multilayer_perceptron.py:691: ConvergenceWarning: Stochastic Optimizer: Maximum iterations (200) reached and the optimization hasn't converged yet.\n",
            "  warnings.warn(\n",
            "c:\\Program Files\\Python311\\Lib\\site-packages\\sklearn\\neural_network\\_multilayer_perceptron.py:691: ConvergenceWarning: Stochastic Optimizer: Maximum iterations (200) reached and the optimization hasn't converged yet.\n",
            "  warnings.warn(\n",
            "c:\\Program Files\\Python311\\Lib\\site-packages\\sklearn\\neural_network\\_multilayer_perceptron.py:691: ConvergenceWarning: Stochastic Optimizer: Maximum iterations (200) reached and the optimization hasn't converged yet.\n",
            "  warnings.warn(\n",
            "c:\\Program Files\\Python311\\Lib\\site-packages\\sklearn\\neural_network\\_multilayer_perceptron.py:691: ConvergenceWarning: Stochastic Optimizer: Maximum iterations (200) reached and the optimization hasn't converged yet.\n",
            "  warnings.warn(\n",
            "c:\\Program Files\\Python311\\Lib\\site-packages\\sklearn\\neural_network\\_multilayer_perceptron.py:691: ConvergenceWarning: Stochastic Optimizer: Maximum iterations (200) reached and the optimization hasn't converged yet.\n",
            "  warnings.warn(\n",
            "c:\\Program Files\\Python311\\Lib\\site-packages\\sklearn\\neural_network\\_multilayer_perceptron.py:691: ConvergenceWarning: Stochastic Optimizer: Maximum iterations (200) reached and the optimization hasn't converged yet.\n",
            "  warnings.warn(\n",
            "c:\\Program Files\\Python311\\Lib\\site-packages\\sklearn\\neural_network\\_multilayer_perceptron.py:691: ConvergenceWarning: Stochastic Optimizer: Maximum iterations (200) reached and the optimization hasn't converged yet.\n",
            "  warnings.warn(\n",
            "c:\\Program Files\\Python311\\Lib\\site-packages\\sklearn\\neural_network\\_multilayer_perceptron.py:691: ConvergenceWarning: Stochastic Optimizer: Maximum iterations (200) reached and the optimization hasn't converged yet.\n",
            "  warnings.warn(\n",
            "c:\\Program Files\\Python311\\Lib\\site-packages\\sklearn\\neural_network\\_multilayer_perceptron.py:691: ConvergenceWarning: Stochastic Optimizer: Maximum iterations (200) reached and the optimization hasn't converged yet.\n",
            "  warnings.warn(\n",
            "c:\\Program Files\\Python311\\Lib\\site-packages\\sklearn\\neural_network\\_multilayer_perceptron.py:691: ConvergenceWarning: Stochastic Optimizer: Maximum iterations (200) reached and the optimization hasn't converged yet.\n",
            "  warnings.warn(\n",
            "c:\\Program Files\\Python311\\Lib\\site-packages\\sklearn\\neural_network\\_multilayer_perceptron.py:691: ConvergenceWarning: Stochastic Optimizer: Maximum iterations (200) reached and the optimization hasn't converged yet.\n",
            "  warnings.warn(\n",
            "c:\\Program Files\\Python311\\Lib\\site-packages\\sklearn\\neural_network\\_multilayer_perceptron.py:691: ConvergenceWarning: Stochastic Optimizer: Maximum iterations (200) reached and the optimization hasn't converged yet.\n",
            "  warnings.warn(\n",
            "c:\\Program Files\\Python311\\Lib\\site-packages\\sklearn\\neural_network\\_multilayer_perceptron.py:691: ConvergenceWarning: Stochastic Optimizer: Maximum iterations (200) reached and the optimization hasn't converged yet.\n",
            "  warnings.warn(\n",
            "c:\\Program Files\\Python311\\Lib\\site-packages\\sklearn\\neural_network\\_multilayer_perceptron.py:691: ConvergenceWarning: Stochastic Optimizer: Maximum iterations (200) reached and the optimization hasn't converged yet.\n",
            "  warnings.warn(\n",
            "c:\\Program Files\\Python311\\Lib\\site-packages\\sklearn\\neural_network\\_multilayer_perceptron.py:691: ConvergenceWarning: Stochastic Optimizer: Maximum iterations (200) reached and the optimization hasn't converged yet.\n",
            "  warnings.warn(\n",
            "c:\\Program Files\\Python311\\Lib\\site-packages\\sklearn\\neural_network\\_multilayer_perceptron.py:691: ConvergenceWarning: Stochastic Optimizer: Maximum iterations (200) reached and the optimization hasn't converged yet.\n",
            "  warnings.warn(\n",
            "c:\\Program Files\\Python311\\Lib\\site-packages\\sklearn\\neural_network\\_multilayer_perceptron.py:691: ConvergenceWarning: Stochastic Optimizer: Maximum iterations (200) reached and the optimization hasn't converged yet.\n",
            "  warnings.warn(\n",
            "c:\\Program Files\\Python311\\Lib\\site-packages\\sklearn\\neural_network\\_multilayer_perceptron.py:691: ConvergenceWarning: Stochastic Optimizer: Maximum iterations (200) reached and the optimization hasn't converged yet.\n",
            "  warnings.warn(\n",
            "c:\\Program Files\\Python311\\Lib\\site-packages\\sklearn\\neural_network\\_multilayer_perceptron.py:691: ConvergenceWarning: Stochastic Optimizer: Maximum iterations (200) reached and the optimization hasn't converged yet.\n",
            "  warnings.warn(\n",
            "c:\\Program Files\\Python311\\Lib\\site-packages\\sklearn\\neural_network\\_multilayer_perceptron.py:691: ConvergenceWarning: Stochastic Optimizer: Maximum iterations (200) reached and the optimization hasn't converged yet.\n",
            "  warnings.warn(\n",
            "c:\\Program Files\\Python311\\Lib\\site-packages\\sklearn\\neural_network\\_multilayer_perceptron.py:691: ConvergenceWarning: Stochastic Optimizer: Maximum iterations (200) reached and the optimization hasn't converged yet.\n",
            "  warnings.warn(\n",
            "c:\\Program Files\\Python311\\Lib\\site-packages\\sklearn\\neural_network\\_multilayer_perceptron.py:691: ConvergenceWarning: Stochastic Optimizer: Maximum iterations (200) reached and the optimization hasn't converged yet.\n",
            "  warnings.warn(\n",
            "c:\\Program Files\\Python311\\Lib\\site-packages\\sklearn\\neural_network\\_multilayer_perceptron.py:691: ConvergenceWarning: Stochastic Optimizer: Maximum iterations (200) reached and the optimization hasn't converged yet.\n",
            "  warnings.warn(\n",
            "c:\\Program Files\\Python311\\Lib\\site-packages\\sklearn\\neural_network\\_multilayer_perceptron.py:691: ConvergenceWarning: Stochastic Optimizer: Maximum iterations (200) reached and the optimization hasn't converged yet.\n",
            "  warnings.warn(\n",
            "c:\\Program Files\\Python311\\Lib\\site-packages\\sklearn\\neural_network\\_multilayer_perceptron.py:691: ConvergenceWarning: Stochastic Optimizer: Maximum iterations (200) reached and the optimization hasn't converged yet.\n",
            "  warnings.warn(\n",
            "c:\\Program Files\\Python311\\Lib\\site-packages\\sklearn\\neural_network\\_multilayer_perceptron.py:691: ConvergenceWarning: Stochastic Optimizer: Maximum iterations (200) reached and the optimization hasn't converged yet.\n",
            "  warnings.warn(\n",
            "c:\\Program Files\\Python311\\Lib\\site-packages\\sklearn\\neural_network\\_multilayer_perceptron.py:691: ConvergenceWarning: Stochastic Optimizer: Maximum iterations (200) reached and the optimization hasn't converged yet.\n",
            "  warnings.warn(\n",
            "c:\\Program Files\\Python311\\Lib\\site-packages\\sklearn\\neural_network\\_multilayer_perceptron.py:691: ConvergenceWarning: Stochastic Optimizer: Maximum iterations (200) reached and the optimization hasn't converged yet.\n",
            "  warnings.warn(\n",
            "c:\\Program Files\\Python311\\Lib\\site-packages\\sklearn\\neural_network\\_multilayer_perceptron.py:691: ConvergenceWarning: Stochastic Optimizer: Maximum iterations (200) reached and the optimization hasn't converged yet.\n",
            "  warnings.warn(\n",
            "c:\\Program Files\\Python311\\Lib\\site-packages\\sklearn\\neural_network\\_multilayer_perceptron.py:691: ConvergenceWarning: Stochastic Optimizer: Maximum iterations (200) reached and the optimization hasn't converged yet.\n",
            "  warnings.warn(\n",
            "c:\\Program Files\\Python311\\Lib\\site-packages\\sklearn\\neural_network\\_multilayer_perceptron.py:691: ConvergenceWarning: Stochastic Optimizer: Maximum iterations (200) reached and the optimization hasn't converged yet.\n",
            "  warnings.warn(\n",
            "c:\\Program Files\\Python311\\Lib\\site-packages\\sklearn\\neural_network\\_multilayer_perceptron.py:691: ConvergenceWarning: Stochastic Optimizer: Maximum iterations (200) reached and the optimization hasn't converged yet.\n",
            "  warnings.warn(\n",
            "c:\\Program Files\\Python311\\Lib\\site-packages\\sklearn\\neural_network\\_multilayer_perceptron.py:691: ConvergenceWarning: Stochastic Optimizer: Maximum iterations (200) reached and the optimization hasn't converged yet.\n",
            "  warnings.warn(\n"
          ]
        },
        {
          "data": {
            "text/html": [
              "<style>#sk-container-id-2 {color: black;}#sk-container-id-2 pre{padding: 0;}#sk-container-id-2 div.sk-toggleable {background-color: white;}#sk-container-id-2 label.sk-toggleable__label {cursor: pointer;display: block;width: 100%;margin-bottom: 0;padding: 0.3em;box-sizing: border-box;text-align: center;}#sk-container-id-2 label.sk-toggleable__label-arrow:before {content: \"▸\";float: left;margin-right: 0.25em;color: #696969;}#sk-container-id-2 label.sk-toggleable__label-arrow:hover:before {color: black;}#sk-container-id-2 div.sk-estimator:hover label.sk-toggleable__label-arrow:before {color: black;}#sk-container-id-2 div.sk-toggleable__content {max-height: 0;max-width: 0;overflow: hidden;text-align: left;background-color: #f0f8ff;}#sk-container-id-2 div.sk-toggleable__content pre {margin: 0.2em;color: black;border-radius: 0.25em;background-color: #f0f8ff;}#sk-container-id-2 input.sk-toggleable__control:checked~div.sk-toggleable__content {max-height: 200px;max-width: 100%;overflow: auto;}#sk-container-id-2 input.sk-toggleable__control:checked~label.sk-toggleable__label-arrow:before {content: \"▾\";}#sk-container-id-2 div.sk-estimator input.sk-toggleable__control:checked~label.sk-toggleable__label {background-color: #d4ebff;}#sk-container-id-2 div.sk-label input.sk-toggleable__control:checked~label.sk-toggleable__label {background-color: #d4ebff;}#sk-container-id-2 input.sk-hidden--visually {border: 0;clip: rect(1px 1px 1px 1px);clip: rect(1px, 1px, 1px, 1px);height: 1px;margin: -1px;overflow: hidden;padding: 0;position: absolute;width: 1px;}#sk-container-id-2 div.sk-estimator {font-family: monospace;background-color: #f0f8ff;border: 1px dotted black;border-radius: 0.25em;box-sizing: border-box;margin-bottom: 0.5em;}#sk-container-id-2 div.sk-estimator:hover {background-color: #d4ebff;}#sk-container-id-2 div.sk-parallel-item::after {content: \"\";width: 100%;border-bottom: 1px solid gray;flex-grow: 1;}#sk-container-id-2 div.sk-label:hover label.sk-toggleable__label {background-color: #d4ebff;}#sk-container-id-2 div.sk-serial::before {content: \"\";position: absolute;border-left: 1px solid gray;box-sizing: border-box;top: 0;bottom: 0;left: 50%;z-index: 0;}#sk-container-id-2 div.sk-serial {display: flex;flex-direction: column;align-items: center;background-color: white;padding-right: 0.2em;padding-left: 0.2em;position: relative;}#sk-container-id-2 div.sk-item {position: relative;z-index: 1;}#sk-container-id-2 div.sk-parallel {display: flex;align-items: stretch;justify-content: center;background-color: white;position: relative;}#sk-container-id-2 div.sk-item::before, #sk-container-id-2 div.sk-parallel-item::before {content: \"\";position: absolute;border-left: 1px solid gray;box-sizing: border-box;top: 0;bottom: 0;left: 50%;z-index: -1;}#sk-container-id-2 div.sk-parallel-item {display: flex;flex-direction: column;z-index: 1;position: relative;background-color: white;}#sk-container-id-2 div.sk-parallel-item:first-child::after {align-self: flex-end;width: 50%;}#sk-container-id-2 div.sk-parallel-item:last-child::after {align-self: flex-start;width: 50%;}#sk-container-id-2 div.sk-parallel-item:only-child::after {width: 0;}#sk-container-id-2 div.sk-dashed-wrapped {border: 1px dashed gray;margin: 0 0.4em 0.5em 0.4em;box-sizing: border-box;padding-bottom: 0.4em;background-color: white;}#sk-container-id-2 div.sk-label label {font-family: monospace;font-weight: bold;display: inline-block;line-height: 1.2em;}#sk-container-id-2 div.sk-label-container {text-align: center;}#sk-container-id-2 div.sk-container {/* jupyter's `normalize.less` sets `[hidden] { display: none; }` but bootstrap.min.css set `[hidden] { display: none !important; }` so we also need the `!important` here to be able to override the default hidden behavior on the sphinx rendered scikit-learn.org. See: https://github.com/scikit-learn/scikit-learn/issues/21755 */display: inline-block !important;position: relative;}#sk-container-id-2 div.sk-text-repr-fallback {display: none;}</style><div id=\"sk-container-id-2\" class=\"sk-top-container\"><div class=\"sk-text-repr-fallback\"><pre>GridSearchCV(cv=3, estimator=MLPClassifier(random_state=10),\n",
              "             param_grid={&#x27;activation&#x27;: [&#x27;identity&#x27;, &#x27;logistic&#x27;, &#x27;tanh&#x27;, &#x27;relu&#x27;],\n",
              "                         &#x27;hidden_layer_sizes&#x27;: [101, 50, 25],\n",
              "                         &#x27;learning_rate_init&#x27;: [0.001, 0.01, 0.1]},\n",
              "             scoring=&#x27;accuracy&#x27;)</pre><b>In a Jupyter environment, please rerun this cell to show the HTML representation or trust the notebook. <br />On GitHub, the HTML representation is unable to render, please try loading this page with nbviewer.org.</b></div><div class=\"sk-container\" hidden><div class=\"sk-item sk-dashed-wrapped\"><div class=\"sk-label-container\"><div class=\"sk-label sk-toggleable\"><input class=\"sk-toggleable__control sk-hidden--visually\" id=\"sk-estimator-id-4\" type=\"checkbox\" ><label for=\"sk-estimator-id-4\" class=\"sk-toggleable__label sk-toggleable__label-arrow\">GridSearchCV</label><div class=\"sk-toggleable__content\"><pre>GridSearchCV(cv=3, estimator=MLPClassifier(random_state=10),\n",
              "             param_grid={&#x27;activation&#x27;: [&#x27;identity&#x27;, &#x27;logistic&#x27;, &#x27;tanh&#x27;, &#x27;relu&#x27;],\n",
              "                         &#x27;hidden_layer_sizes&#x27;: [101, 50, 25],\n",
              "                         &#x27;learning_rate_init&#x27;: [0.001, 0.01, 0.1]},\n",
              "             scoring=&#x27;accuracy&#x27;)</pre></div></div></div><div class=\"sk-parallel\"><div class=\"sk-parallel-item\"><div class=\"sk-item\"><div class=\"sk-label-container\"><div class=\"sk-label sk-toggleable\"><input class=\"sk-toggleable__control sk-hidden--visually\" id=\"sk-estimator-id-5\" type=\"checkbox\" ><label for=\"sk-estimator-id-5\" class=\"sk-toggleable__label sk-toggleable__label-arrow\">estimator: MLPClassifier</label><div class=\"sk-toggleable__content\"><pre>MLPClassifier(random_state=10)</pre></div></div></div><div class=\"sk-serial\"><div class=\"sk-item\"><div class=\"sk-estimator sk-toggleable\"><input class=\"sk-toggleable__control sk-hidden--visually\" id=\"sk-estimator-id-6\" type=\"checkbox\" ><label for=\"sk-estimator-id-6\" class=\"sk-toggleable__label sk-toggleable__label-arrow\">MLPClassifier</label><div class=\"sk-toggleable__content\"><pre>MLPClassifier(random_state=10)</pre></div></div></div></div></div></div></div></div></div></div>"
            ],
            "text/plain": [
              "GridSearchCV(cv=3, estimator=MLPClassifier(random_state=10),\n",
              "             param_grid={'activation': ['identity', 'logistic', 'tanh', 'relu'],\n",
              "                         'hidden_layer_sizes': [101, 50, 25],\n",
              "                         'learning_rate_init': [0.001, 0.01, 0.1]},\n",
              "             scoring='accuracy')"
            ]
          },
          "execution_count": 21,
          "metadata": {},
          "output_type": "execute_result"
        }
      ],
      "source": [
        "mlp = MLPClassifier(random_state=10)# Ваш код и напоминание про random_state\n",
        "\n",
        "grid_search = GridSearchCV(mlp, param_grid, cv=3, scoring='accuracy')\n",
        "grid_search.fit(X_train_scaled, y_train) # Запустите обучение с нужными данными"
      ]
    },
    {
      "cell_type": "markdown",
      "metadata": {
        "id": "W6Y5jQacCVF1"
      },
      "source": [
        "**Что значит cv=3 для GridSearchCV?**\n",
        "\n",
        "Ваш ответ: параметр кросс-валидации, проверка с 3 другими моделями"
      ]
    },
    {
      "cell_type": "code",
      "execution_count": 22,
      "metadata": {
        "id": "e9UUYEoPAvtg"
      },
      "outputs": [
        {
          "name": "stdout",
          "output_type": "stream",
          "text": [
            "Гиперпараметры модели с лучшим результатом: {'activation': 'relu', 'hidden_layer_sizes': 101, 'learning_rate_init': 0.001}\n",
            "Лучшая точность при кросс валидации: 0.62\n"
          ]
        }
      ],
      "source": [
        "print(f\"Гиперпараметры модели с лучшим результатом: {grid_search.best_params_}\")\n",
        "print(f\"Лучшая точность при кросс валидации: {grid_search.best_score_:.2f}\")"
      ]
    },
    {
      "cell_type": "markdown",
      "metadata": {
        "id": "YO7BbXzdCcgB"
      },
      "source": [
        "## Тест наилучшей модели"
      ]
    },
    {
      "cell_type": "code",
      "execution_count": 23,
      "metadata": {
        "id": "Wk3d147YAwZE"
      },
      "outputs": [
        {
          "name": "stdout",
          "output_type": "stream",
          "text": [
            "Точность на тестовой выборке: 0.62\n"
          ]
        }
      ],
      "source": [
        "test_accuracy = grid_search.score(X_test_scaled, y_test) # Подставьте данные тестовой выборки\n",
        "print(f\"Точность на тестовой выборке: {test_accuracy:.2f}\")"
      ]
    },
    {
      "cell_type": "code",
      "execution_count": 24,
      "metadata": {
        "id": "K9vJahQNDKUf"
      },
      "outputs": [
        {
          "data": {
            "text/plain": [
              "{'mean_fit_time': array([ 1.42514833,  1.78692619,  0.73917301,  0.79653152,  0.52531894,\n",
              "         0.26709469,  0.99599044,  0.50617131,  0.30117345, 11.26473641,\n",
              "         8.23468955,  3.37376412,  4.97700953,  4.69714967,  2.18350029,\n",
              "         3.35355886,  3.35577687,  1.12535445,  7.01003917,  3.05412269,\n",
              "         1.30818756,  2.83026115,  1.8648483 ,  0.57999285,  2.24421787,\n",
              "         2.19816399,  0.78612955,  7.05164742,  2.02727572,  0.58252494,\n",
              "         2.93155336,  0.99640449,  0.21831298,  2.18525004,  2.00258581,\n",
              "         0.44256401]),\n",
              " 'std_fit_time': array([0.29612042, 0.48323359, 0.07867429, 0.08816268, 0.24189287,\n",
              "        0.03077151, 0.05236031, 0.1130438 , 0.07659639, 0.5139491 ,\n",
              "        0.45333322, 0.01766068, 0.15829022, 0.07141591, 0.06186579,\n",
              "        0.03581193, 0.02061797, 0.21354073, 0.1306645 , 0.04350162,\n",
              "        0.12755742, 0.05341819, 0.03156504, 0.0691197 , 0.01673867,\n",
              "        0.05675926, 0.02425057, 0.21787419, 0.02762812, 0.02302532,\n",
              "        0.12414359, 0.01917408, 0.01220527, 0.0743335 , 0.22947575,\n",
              "        0.07108885]),\n",
              " 'mean_score_time': array([0.00366648, 0.00465536, 0.00366465, 0.00366871, 0.00321309,\n",
              "        0.00530895, 0.00366338, 0.00401537, 0.00366871, 0.01299826,\n",
              "        0.01233506, 0.01333427, 0.00899784, 0.00814954, 0.00830468,\n",
              "        0.00566792, 0.00666618, 0.00462977, 0.00632509, 0.00499511,\n",
              "        0.00566578, 0.00473921, 0.00411844, 0.00499463, 0.00431085,\n",
              "        0.00480978, 0.00316294, 0.00535321, 0.00366942, 0.00366195,\n",
              "        0.0039947 , 0.00299573, 0.00333214, 0.00766643, 0.00366298,\n",
              "        0.00399828]),\n",
              " 'std_score_time': array([9.38975634e-04, 1.26166144e-03, 9.44164271e-04, 1.24143711e-03,\n",
              "        5.68951204e-04, 1.25603321e-03, 4.70249017e-04, 1.60500800e-03,\n",
              "        4.75200640e-04, 8.19262448e-04, 1.69992548e-03, 9.41897896e-04,\n",
              "        1.41653551e-03, 1.99464426e-03, 1.27328732e-03, 9.44595214e-04,\n",
              "        1.24534723e-03, 5.10782388e-04, 1.25360713e-03, 7.54197020e-06,\n",
              "        9.37683813e-04, 8.63086438e-04, 1.12221137e-04, 7.74637557e-04,\n",
              "        4.50303504e-04, 8.51721631e-04, 6.43615605e-04, 1.22948910e-03,\n",
              "        4.73359313e-04, 9.47605539e-04, 8.16943015e-04, 5.23436031e-06,\n",
              "        4.52722459e-04, 4.49744092e-03, 4.68647336e-04, 8.19664004e-04]),\n",
              " 'param_activation': masked_array(data=['identity', 'identity', 'identity', 'identity',\n",
              "                    'identity', 'identity', 'identity', 'identity',\n",
              "                    'identity', 'logistic', 'logistic', 'logistic',\n",
              "                    'logistic', 'logistic', 'logistic', 'logistic',\n",
              "                    'logistic', 'logistic', 'tanh', 'tanh', 'tanh', 'tanh',\n",
              "                    'tanh', 'tanh', 'tanh', 'tanh', 'tanh', 'relu', 'relu',\n",
              "                    'relu', 'relu', 'relu', 'relu', 'relu', 'relu', 'relu'],\n",
              "              mask=[False, False, False, False, False, False, False, False,\n",
              "                    False, False, False, False, False, False, False, False,\n",
              "                    False, False, False, False, False, False, False, False,\n",
              "                    False, False, False, False, False, False, False, False,\n",
              "                    False, False, False, False],\n",
              "        fill_value='?',\n",
              "             dtype=object),\n",
              " 'param_hidden_layer_sizes': masked_array(data=[101, 101, 101, 50, 50, 50, 25, 25, 25, 101, 101, 101,\n",
              "                    50, 50, 50, 25, 25, 25, 101, 101, 101, 50, 50, 50, 25,\n",
              "                    25, 25, 101, 101, 101, 50, 50, 50, 25, 25, 25],\n",
              "              mask=[False, False, False, False, False, False, False, False,\n",
              "                    False, False, False, False, False, False, False, False,\n",
              "                    False, False, False, False, False, False, False, False,\n",
              "                    False, False, False, False, False, False, False, False,\n",
              "                    False, False, False, False],\n",
              "        fill_value='?',\n",
              "             dtype=object),\n",
              " 'param_learning_rate_init': masked_array(data=[0.001, 0.01, 0.1, 0.001, 0.01, 0.1, 0.001, 0.01, 0.1,\n",
              "                    0.001, 0.01, 0.1, 0.001, 0.01, 0.1, 0.001, 0.01, 0.1,\n",
              "                    0.001, 0.01, 0.1, 0.001, 0.01, 0.1, 0.001, 0.01, 0.1,\n",
              "                    0.001, 0.01, 0.1, 0.001, 0.01, 0.1, 0.001, 0.01, 0.1],\n",
              "              mask=[False, False, False, False, False, False, False, False,\n",
              "                    False, False, False, False, False, False, False, False,\n",
              "                    False, False, False, False, False, False, False, False,\n",
              "                    False, False, False, False, False, False, False, False,\n",
              "                    False, False, False, False],\n",
              "        fill_value='?',\n",
              "             dtype=object),\n",
              " 'params': [{'activation': 'identity',\n",
              "   'hidden_layer_sizes': 101,\n",
              "   'learning_rate_init': 0.001},\n",
              "  {'activation': 'identity',\n",
              "   'hidden_layer_sizes': 101,\n",
              "   'learning_rate_init': 0.01},\n",
              "  {'activation': 'identity',\n",
              "   'hidden_layer_sizes': 101,\n",
              "   'learning_rate_init': 0.1},\n",
              "  {'activation': 'identity',\n",
              "   'hidden_layer_sizes': 50,\n",
              "   'learning_rate_init': 0.001},\n",
              "  {'activation': 'identity',\n",
              "   'hidden_layer_sizes': 50,\n",
              "   'learning_rate_init': 0.01},\n",
              "  {'activation': 'identity',\n",
              "   'hidden_layer_sizes': 50,\n",
              "   'learning_rate_init': 0.1},\n",
              "  {'activation': 'identity',\n",
              "   'hidden_layer_sizes': 25,\n",
              "   'learning_rate_init': 0.001},\n",
              "  {'activation': 'identity',\n",
              "   'hidden_layer_sizes': 25,\n",
              "   'learning_rate_init': 0.01},\n",
              "  {'activation': 'identity',\n",
              "   'hidden_layer_sizes': 25,\n",
              "   'learning_rate_init': 0.1},\n",
              "  {'activation': 'logistic',\n",
              "   'hidden_layer_sizes': 101,\n",
              "   'learning_rate_init': 0.001},\n",
              "  {'activation': 'logistic',\n",
              "   'hidden_layer_sizes': 101,\n",
              "   'learning_rate_init': 0.01},\n",
              "  {'activation': 'logistic',\n",
              "   'hidden_layer_sizes': 101,\n",
              "   'learning_rate_init': 0.1},\n",
              "  {'activation': 'logistic',\n",
              "   'hidden_layer_sizes': 50,\n",
              "   'learning_rate_init': 0.001},\n",
              "  {'activation': 'logistic',\n",
              "   'hidden_layer_sizes': 50,\n",
              "   'learning_rate_init': 0.01},\n",
              "  {'activation': 'logistic',\n",
              "   'hidden_layer_sizes': 50,\n",
              "   'learning_rate_init': 0.1},\n",
              "  {'activation': 'logistic',\n",
              "   'hidden_layer_sizes': 25,\n",
              "   'learning_rate_init': 0.001},\n",
              "  {'activation': 'logistic',\n",
              "   'hidden_layer_sizes': 25,\n",
              "   'learning_rate_init': 0.01},\n",
              "  {'activation': 'logistic',\n",
              "   'hidden_layer_sizes': 25,\n",
              "   'learning_rate_init': 0.1},\n",
              "  {'activation': 'tanh',\n",
              "   'hidden_layer_sizes': 101,\n",
              "   'learning_rate_init': 0.001},\n",
              "  {'activation': 'tanh',\n",
              "   'hidden_layer_sizes': 101,\n",
              "   'learning_rate_init': 0.01},\n",
              "  {'activation': 'tanh', 'hidden_layer_sizes': 101, 'learning_rate_init': 0.1},\n",
              "  {'activation': 'tanh',\n",
              "   'hidden_layer_sizes': 50,\n",
              "   'learning_rate_init': 0.001},\n",
              "  {'activation': 'tanh', 'hidden_layer_sizes': 50, 'learning_rate_init': 0.01},\n",
              "  {'activation': 'tanh', 'hidden_layer_sizes': 50, 'learning_rate_init': 0.1},\n",
              "  {'activation': 'tanh',\n",
              "   'hidden_layer_sizes': 25,\n",
              "   'learning_rate_init': 0.001},\n",
              "  {'activation': 'tanh', 'hidden_layer_sizes': 25, 'learning_rate_init': 0.01},\n",
              "  {'activation': 'tanh', 'hidden_layer_sizes': 25, 'learning_rate_init': 0.1},\n",
              "  {'activation': 'relu',\n",
              "   'hidden_layer_sizes': 101,\n",
              "   'learning_rate_init': 0.001},\n",
              "  {'activation': 'relu',\n",
              "   'hidden_layer_sizes': 101,\n",
              "   'learning_rate_init': 0.01},\n",
              "  {'activation': 'relu', 'hidden_layer_sizes': 101, 'learning_rate_init': 0.1},\n",
              "  {'activation': 'relu',\n",
              "   'hidden_layer_sizes': 50,\n",
              "   'learning_rate_init': 0.001},\n",
              "  {'activation': 'relu', 'hidden_layer_sizes': 50, 'learning_rate_init': 0.01},\n",
              "  {'activation': 'relu', 'hidden_layer_sizes': 50, 'learning_rate_init': 0.1},\n",
              "  {'activation': 'relu',\n",
              "   'hidden_layer_sizes': 25,\n",
              "   'learning_rate_init': 0.001},\n",
              "  {'activation': 'relu', 'hidden_layer_sizes': 25, 'learning_rate_init': 0.01},\n",
              "  {'activation': 'relu', 'hidden_layer_sizes': 25, 'learning_rate_init': 0.1}],\n",
              " 'split0_test_score': array([0.42372881, 0.42372881, 0.30979284, 0.42749529, 0.42184557,\n",
              "        0.33333333, 0.42184557, 0.42372881, 0.37570621, 0.45574388,\n",
              "        0.45009416, 0.40489642, 0.4472693 , 0.38983051, 0.40207156,\n",
              "        0.43220339, 0.36629002, 0.36723164, 0.44256121, 0.42749529,\n",
              "        0.33992467, 0.38983051, 0.36629002, 0.326742  , 0.38229755,\n",
              "        0.34274953, 0.32956685, 0.62429379, 0.62806026, 0.52919021,\n",
              "        0.53107345, 0.53672316, 0.46704331, 0.45574388, 0.43502825,\n",
              "        0.42937853]),\n",
              " 'split1_test_score': array([0.43543827, 0.44580584, 0.31479736, 0.43355325, 0.43072573,\n",
              "        0.36380773, 0.43732328, 0.4260132 , 0.36852026, 0.44863336,\n",
              "        0.45428841, 0.43732328, 0.44392083, 0.40150801, 0.38831291,\n",
              "        0.4269557 , 0.35626767, 0.39396795, 0.40999057, 0.40339303,\n",
              "        0.34118756, 0.4128181 , 0.38548539, 0.32987747, 0.40810556,\n",
              "        0.34872762, 0.34590009, 0.61828464, 0.59566447, 0.53440151,\n",
              "        0.52874647, 0.54571159, 0.49575872, 0.45146089, 0.42507069,\n",
              "        0.42130066]),\n",
              " 'split2_test_score': array([0.41470311, 0.41753063, 0.31102733, 0.41847314, 0.42224317,\n",
              "        0.29500471, 0.41658812, 0.4137606 , 0.35532516, 0.4401508 ,\n",
              "        0.4533459 , 0.40527804, 0.43449576, 0.38925542, 0.38171536,\n",
              "        0.44486334, 0.36663525, 0.35249764, 0.4005655 , 0.41941565,\n",
              "        0.33553252, 0.39208294, 0.37229029, 0.30914232, 0.37888784,\n",
              "        0.31291235, 0.34213007, 0.61828464, 0.61734213, 0.533459  ,\n",
              "        0.50801131, 0.53440151, 0.50424128, 0.46182846, 0.42978322,\n",
              "        0.42035815]),\n",
              " 'mean_test_score': array([0.4246234 , 0.42902176, 0.31187251, 0.42650723, 0.42493816,\n",
              "        0.33071526, 0.42525233, 0.42116754, 0.36651721, 0.44817602,\n",
              "        0.45257616, 0.41583258, 0.4418953 , 0.39353131, 0.39069995,\n",
              "        0.43467414, 0.36306431, 0.37123241, 0.41770576, 0.41676799,\n",
              "        0.33888158, 0.39824385, 0.37468857, 0.3219206 , 0.38976365,\n",
              "        0.3347965 , 0.33919901, 0.62028769, 0.61368895, 0.53235024,\n",
              "        0.52261041, 0.53894542, 0.48901444, 0.45634441, 0.42996072,\n",
              "        0.42367911]),\n",
              " 'std_test_score': array([0.00848869, 0.01213489, 0.0021287 , 0.00619595, 0.00409565,\n",
              "        0.02814965, 0.00880118, 0.00531987, 0.00844022, 0.00637406,\n",
              "        0.00179672, 0.01519702, 0.00540789, 0.00564526, 0.00848006,\n",
              "        0.00751662, 0.00480802, 0.01716491, 0.01799172, 0.01001623,\n",
              "        0.00242362, 0.01034649, 0.00801787, 0.00912583, 0.01304418,\n",
              "        0.0156657 , 0.00698269, 0.00283274, 0.01347544, 0.00226737,\n",
              "        0.01036674, 0.00487739, 0.01591721, 0.00425379, 0.00406709,\n",
              "        0.00404842]),\n",
              " 'rank_test_score': array([17, 13, 36, 14, 16, 34, 15, 19, 29,  9,  8, 22, 10, 24, 25, 11, 30,\n",
              "        28, 20, 21, 32, 23, 27, 35, 26, 33, 31,  1,  2,  4,  5,  3,  6,  7,\n",
              "        12, 18])}"
            ]
          },
          "execution_count": 24,
          "metadata": {},
          "output_type": "execute_result"
        }
      ],
      "source": [
        "# Если понадобится сохранить лучший вариант, то он находится в атрибуте best_estimator_\n",
        "# Все данные по кросс валидации находятся в атрибуте cv_results_\n",
        "\n",
        "grid_search.best_estimator_\n",
        "grid_search.cv_results_"
      ]
    },
    {
      "cell_type": "markdown",
      "metadata": {
        "id": "EthloiEIJi3v"
      },
      "source": [
        "**Что такое эпоха (epoch) при обучении модели?**\n",
        "\n",
        "Ваш ответ: этап обучения нейросети, один этап прохода по данным\n",
        "\n",
        "**Сколько эпох задается изначально при создании MLPClassifier?**\n",
        "\n",
        "Ваш ответ: 200\n",
        "\n",
        "**Для чего требуется регуляризация L2 или L1?**\n",
        "\n",
        "Ваш ответ: для предотвращения переобучения модели (L1 - только важные признаки, L2 уменьшает значение огромных весов)\n",
        "\n",
        "**Сколько параметров в вашей лучшей модели?**\n",
        "\n",
        "Ваш ответ: 3"
      ]
    }
  ],
  "metadata": {
    "colab": {
      "provenance": []
    },
    "kernelspec": {
      "display_name": "Python 3",
      "name": "python3"
    },
    "language_info": {
      "codemirror_mode": {
        "name": "ipython",
        "version": 3
      },
      "file_extension": ".py",
      "mimetype": "text/x-python",
      "name": "python",
      "nbconvert_exporter": "python",
      "pygments_lexer": "ipython3",
      "version": "3.11.6"
    }
  },
  "nbformat": 4,
  "nbformat_minor": 0
}
