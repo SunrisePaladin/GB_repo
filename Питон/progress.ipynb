{
 "cells": [
  {
   "cell_type": "code",
   "execution_count": 27,
   "metadata": {},
   "outputs": [
    {
     "data": {
      "text/html": [
       "<div>\n",
       "<style scoped>\n",
       "    .dataframe tbody tr th:only-of-type {\n",
       "        vertical-align: middle;\n",
       "    }\n",
       "\n",
       "    .dataframe tbody tr th {\n",
       "        vertical-align: top;\n",
       "    }\n",
       "\n",
       "    .dataframe thead th {\n",
       "        text-align: right;\n",
       "    }\n",
       "</style>\n",
       "<table border=\"1\" class=\"dataframe\">\n",
       "  <thead>\n",
       "    <tr style=\"text-align: right;\">\n",
       "      <th></th>\n",
       "      <th>whoAmI</th>\n",
       "    </tr>\n",
       "  </thead>\n",
       "  <tbody>\n",
       "    <tr>\n",
       "      <th>0</th>\n",
       "      <td>human</td>\n",
       "    </tr>\n",
       "    <tr>\n",
       "      <th>1</th>\n",
       "      <td>human</td>\n",
       "    </tr>\n",
       "    <tr>\n",
       "      <th>2</th>\n",
       "      <td>robot</td>\n",
       "    </tr>\n",
       "    <tr>\n",
       "      <th>3</th>\n",
       "      <td>human</td>\n",
       "    </tr>\n",
       "    <tr>\n",
       "      <th>4</th>\n",
       "      <td>robot</td>\n",
       "    </tr>\n",
       "  </tbody>\n",
       "</table>\n",
       "</div>"
      ],
      "text/plain": [
       "  whoAmI\n",
       "0  human\n",
       "1  human\n",
       "2  robot\n",
       "3  human\n",
       "4  robot"
      ]
     },
     "execution_count": 27,
     "metadata": {},
     "output_type": "execute_result"
    }
   ],
   "source": [
    "import pandas as pd\n",
    "\n",
    "import random\n",
    "lst = ['robot'] * 10\n",
    "lst += ['human'] * 10\n",
    "random.shuffle(lst)\n",
    "data = pd.DataFrame({'whoAmI':lst})\n",
    "data.head()"
   ]
  },
  {
   "cell_type": "code",
   "execution_count": 28,
   "metadata": {},
   "outputs": [
    {
     "name": "stdout",
     "output_type": "stream",
     "text": [
      "           tmp\n",
      "   whoAmI     \n",
      "0  human     1\n",
      "1  human     1\n",
      "2  robot     1\n",
      "3  human     1\n",
      "4  robot     1\n",
      "5  robot     1\n",
      "6  robot     1\n",
      "7  robot     1\n",
      "8  human     1\n",
      "9  robot     1\n",
      "10 robot     1\n",
      "11 human     1\n",
      "12 robot     1\n",
      "13 human     1\n",
      "14 robot     1\n",
      "15 human     1\n",
      "16 human     1\n",
      "17 human     1\n",
      "18 robot     1\n",
      "19 human     1\n"
     ]
    }
   ],
   "source": [
    "data['tmp'] = 1\n",
    "data.set_index([data.index, 'whoAmI'], inplace=True, drop=True)\n",
    "print(data)"
   ]
  },
  {
   "cell_type": "code",
   "execution_count": 29,
   "metadata": {},
   "outputs": [
    {
     "name": "stdout",
     "output_type": "stream",
     "text": [
      "         tmp      \n",
      "whoAmI human robot\n",
      "0          1     0\n",
      "1          1     0\n",
      "2          0     1\n",
      "3          1     0\n",
      "4          0     1\n",
      "5          0     1\n",
      "6          0     1\n",
      "7          0     1\n",
      "8          1     0\n",
      "9          0     1\n",
      "10         0     1\n",
      "11         1     0\n",
      "12         0     1\n",
      "13         1     0\n",
      "14         0     1\n",
      "15         1     0\n",
      "16         1     0\n",
      "17         1     0\n",
      "18         0     1\n",
      "19         1     0\n"
     ]
    }
   ],
   "source": [
    "data = data.unstack(level=-1, fill_value = 0).astype(int)\n",
    "print(data)"
   ]
  },
  {
   "cell_type": "code",
   "execution_count": 30,
   "metadata": {},
   "outputs": [
    {
     "name": "stdout",
     "output_type": "stream",
     "text": [
      "    human  robot\n",
      "0       1      0\n",
      "1       1      0\n",
      "2       0      1\n",
      "3       1      0\n",
      "4       0      1\n",
      "5       0      1\n",
      "6       0      1\n",
      "7       0      1\n",
      "8       1      0\n",
      "9       0      1\n",
      "10      0      1\n",
      "11      1      0\n",
      "12      0      1\n",
      "13      1      0\n",
      "14      0      1\n",
      "15      1      0\n",
      "16      1      0\n",
      "17      1      0\n",
      "18      0      1\n",
      "19      1      0\n"
     ]
    }
   ],
   "source": [
    "data.columns = data.columns.droplevel()\n",
    "data.columns.name = None\n",
    "print(data)"
   ]
  }
 ],
 "metadata": {
  "kernelspec": {
   "display_name": "Python 3",
   "language": "python",
   "name": "python3"
  },
  "language_info": {
   "codemirror_mode": {
    "name": "ipython",
    "version": 3
   },
   "file_extension": ".py",
   "mimetype": "text/x-python",
   "name": "python",
   "nbconvert_exporter": "python",
   "pygments_lexer": "ipython3",
   "version": "3.12.0"
  }
 },
 "nbformat": 4,
 "nbformat_minor": 2
}
