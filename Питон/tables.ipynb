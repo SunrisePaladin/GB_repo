{
 "cells": [
  {
   "cell_type": "markdown",
   "metadata": {},
   "source": [
    "\"Подключение библиотек\""
   ]
  },
  {
   "cell_type": "code",
   "execution_count": 39,
   "metadata": {},
   "outputs": [
    {
     "name": "stdout",
     "output_type": "stream",
     "text": [
      "204615.72391084093 1974\n"
     ]
    }
   ],
   "source": [
    "import pandas as pd\n",
    "\n",
    "df = pd.read_csv('california_housing_train.csv', dtype={\"target\":\"category\"})\n",
    "value = df[(df['population'] > 0) & (df['population'] < 500)]['median_house_value'].sum()\n",
    "rows = df[(df['population'] > 0) & (df['population'] < 500)]['median_house_value'].shape[0]\n",
    "avg = value/rows\n",
    "print(avg, rows)\n"
   ]
  },
  {
   "cell_type": "code",
   "execution_count": 42,
   "metadata": {},
   "outputs": [
    {
     "name": "stdout",
     "output_type": "stream",
     "text": [
      "4\n"
     ]
    }
   ],
   "source": [
    "df = pd.read_csv('california_housing_train.csv', dtype={\"target\":\"category\"})\n",
    "max_households_in_min_population = df[df['population']==df['population'].min()]['households'].max()\n",
    "print(max_households_in_min_population)"
   ]
  }
 ],
 "metadata": {
  "kernelspec": {
   "display_name": "Python 3",
   "language": "python",
   "name": "python3"
  },
  "language_info": {
   "codemirror_mode": {
    "name": "ipython",
    "version": 3
   },
   "file_extension": ".py",
   "mimetype": "text/x-python",
   "name": "python",
   "nbconvert_exporter": "python",
   "pygments_lexer": "ipython3",
   "version": "3.12.0"
  }
 },
 "nbformat": 4,
 "nbformat_minor": 2
}
